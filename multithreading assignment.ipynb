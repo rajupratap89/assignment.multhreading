{
 "cells": [
  {
   "cell_type": "code",
   "execution_count": null,
   "id": "b51e5d9b-99f5-48e4-b647-9d00400f9c78",
   "metadata": {},
   "outputs": [],
   "source": [
    "1. what is multithreading in python? why is it used? Name the module used to handle threads in python"
   ]
  },
  {
   "cell_type": "code",
   "execution_count": 15,
   "id": "3df32c19-ddbe-4c9b-948f-1b293fb2fa35",
   "metadata": {},
   "outputs": [],
   "source": [
    "import threading"
   ]
  },
  {
   "cell_type": "code",
   "execution_count": 16,
   "id": "db6c8c67-b810-41c1-85d8-eabdf5ee7f27",
   "metadata": {},
   "outputs": [],
   "source": [
    "def test(id):\n",
    "    print(\"program start %d\" % id)\n",
    "    "
   ]
  },
  {
   "cell_type": "code",
   "execution_count": 17,
   "id": "67aafd46-15a9-4492-9a27-69265d78245f",
   "metadata": {},
   "outputs": [
    {
     "name": "stdout",
     "output_type": "stream",
     "text": [
      "program start 20\n"
     ]
    }
   ],
   "source": [
    "test(20)"
   ]
  },
  {
   "cell_type": "code",
   "execution_count": 18,
   "id": "a5bd6620-97c8-4ee0-a45c-2712dbc461bd",
   "metadata": {},
   "outputs": [],
   "source": [
    "thread=[threading.Thread(target=test ,args=(i,)) for i in range(10)]"
   ]
  },
  {
   "cell_type": "code",
   "execution_count": 19,
   "id": "46047aa8-8cc8-4c97-916f-8bad552b9a59",
   "metadata": {},
   "outputs": [
    {
     "name": "stdout",
     "output_type": "stream",
     "text": [
      "program start 0\n",
      "program start 1\n",
      "program start 2\n",
      "program start 3\n",
      "program start 4\n",
      "program start 5\n",
      "program start 6\n",
      "program start 7\n",
      "program start 8\n",
      "program start 9\n"
     ]
    }
   ],
   "source": [
    "for j in thread:\n",
    "    j.start()"
   ]
  },
  {
   "cell_type": "code",
   "execution_count": null,
   "id": "1fa76ee0-d170-4659-9571-1472cb24d345",
   "metadata": {},
   "outputs": [],
   "source": [
    "2.why threading module used? write the use of the following functions:\n",
    "1.activeCount()\n",
    "2.currentThread()\n",
    "3.enumerate()"
   ]
  },
  {
   "cell_type": "code",
   "execution_count": 25,
   "id": "c17bf539-82f3-4460-849c-182e5960f7df",
   "metadata": {},
   "outputs": [
    {
     "name": "stdout",
     "output_type": "stream",
     "text": [
      "number of active thread: 9\n"
     ]
    },
    {
     "name": "stderr",
     "output_type": "stream",
     "text": [
      "Exception in thread Thread-16 (test):\n",
      "Traceback (most recent call last):\n",
      "  File \"/opt/conda/lib/python3.10/threading.py\", line 1016, in _bootstrap_inner\n",
      "/tmp/ipykernel_502/1126203525.py:7: DeprecationWarning: activeCount() is deprecated, use active_count() instead\n",
      "  active_threads=threading.activeCount()\n",
      "    self.run()\n",
      "  File \"/opt/conda/lib/python3.10/threading.py\", line 953, in run\n",
      "    self._target(*self._args, **self._kwargs)\n",
      "TypeError: test() missing 1 required positional argument: 'id'\n"
     ]
    }
   ],
   "source": [
    "import threading\n",
    "\n",
    "thread1=threading.Thread(target=test)\n",
    "thread1.start()\n",
    "\n",
    "\n",
    "active_threads=threading.activeCount()\n",
    "print(\"number of active thread:\", active_threads)"
   ]
  },
  {
   "cell_type": "code",
   "execution_count": 26,
   "id": "2e96866c-8b8d-4ea0-a2d2-82035b32f32e",
   "metadata": {},
   "outputs": [
    {
     "name": "stdout",
     "output_type": "stream",
     "text": [
      "Current Thread: Thread-17 (print_current_thread)\n"
     ]
    },
    {
     "name": "stderr",
     "output_type": "stream",
     "text": [
      "/tmp/ipykernel_502/1569445802.py:4: DeprecationWarning: currentThread() is deprecated, use current_thread() instead\n",
      "  current_thread = threading.currentThread()\n"
     ]
    }
   ],
   "source": [
    "import threading\n",
    "\n",
    "def print_current_thread():\n",
    "    current_thread = threading.currentThread()\n",
    "    print(\"Current Thread:\", current_thread.name)\n",
    "\n",
    "thread = threading.Thread(target=print_current_thread)\n",
    "thread.start()\n"
   ]
  },
  {
   "cell_type": "code",
   "execution_count": 27,
   "id": "752af170-054b-460d-bc4f-71148fcea42b",
   "metadata": {},
   "outputs": [
    {
     "name": "stdout",
     "output_type": "stream",
     "text": [
      "Thread executing some_function\n",
      "Thread executing another_function\n",
      "Active threads:\n",
      "MainThread\n",
      "IOPub\n",
      "Heartbeat\n",
      "Thread-3 (_watch_pipe_fd)\n",
      "Thread-4 (_watch_pipe_fd)\n",
      "Control\n",
      "IPythonHistorySavingThread\n",
      "Thread-2\n"
     ]
    }
   ],
   "source": [
    "import threading\n",
    "\n",
    "def some_function():\n",
    "    print(\"Thread executing some_function\")\n",
    "\n",
    "def another_function():\n",
    "    print(\"Thread executing another_function\")\n",
    "\n",
    "# Create and start some threads\n",
    "thread1 = threading.Thread(target=some_function)\n",
    "thread2 = threading.Thread(target=another_function)\n",
    "thread1.start()\n",
    "thread2.start()\n",
    "\n",
    "# Enumerate all active threads\n",
    "active_threads = threading.enumerate()\n",
    "print(\"Active threads:\")\n",
    "for thread in active_threads:\n",
    "    print(thread.name)\n"
   ]
  },
  {
   "cell_type": "code",
   "execution_count": null,
   "id": "517f8109-2b3b-46da-a372-e446951e402e",
   "metadata": {},
   "outputs": [],
   "source": [
    "3. Explain the following functions\n",
    "1.run()\n",
    "2.start()\n",
    "3.join()\n",
    "4.isAlive()"
   ]
  },
  {
   "cell_type": "code",
   "execution_count": 28,
   "id": "d3c98ef1-2a21-40f6-a31e-2d333dce24b6",
   "metadata": {},
   "outputs": [
    {
     "name": "stdout",
     "output_type": "stream",
     "text": [
      "Thread is running\n"
     ]
    }
   ],
   "source": [
    "import threading\n",
    "\n",
    "class MyThread(threading.Thread):\n",
    "    def run(self):\n",
    "        print(\"Thread is running\")\n",
    "\n",
    "# Create an instance of MyThread and start the thread\n",
    "my_thread = MyThread()\n",
    "my_thread.start()  # This will call the run() method in a separate thread\n"
   ]
  },
  {
   "cell_type": "code",
   "execution_count": 29,
   "id": "f644da58-08bc-43a0-a521-6c19960332e3",
   "metadata": {},
   "outputs": [
    {
     "name": "stdout",
     "output_type": "stream",
     "text": [
      "Thread is running\n"
     ]
    }
   ],
   "source": [
    "import threading\n",
    "\n",
    "def my_function():\n",
    "    print(\"Thread is running\")\n",
    "\n",
    "# Create a thread and start it\n",
    "my_thread = threading.Thread(target=my_function)\n",
    "my_thread.start()  # This will invoke my_function in a separate thread\n"
   ]
  },
  {
   "cell_type": "code",
   "execution_count": 30,
   "id": "5637ba01-14f8-481f-8ac5-83d941c5d0d9",
   "metadata": {},
   "outputs": [
    {
     "name": "stdout",
     "output_type": "stream",
     "text": [
      "Thread is running\n",
      "Thread has finished\n"
     ]
    }
   ],
   "source": [
    "import threading\n",
    "\n",
    "def my_function():\n",
    "    print(\"Thread is running\")\n",
    "\n",
    "# Create a thread and start it\n",
    "my_thread = threading.Thread(target=my_function)\n",
    "my_thread.start()\n",
    "\n",
    "# Wait for the thread to complete its execution\n",
    "my_thread.join()\n",
    "print(\"Thread has finished\")\n"
   ]
  },
  {
   "cell_type": "code",
   "execution_count": 31,
   "id": "06b1bef7-ed45-4355-910d-fc6b480e3b00",
   "metadata": {},
   "outputs": [
    {
     "ename": "AttributeError",
     "evalue": "'Thread' object has no attribute 'isAlive'",
     "output_type": "error",
     "traceback": [
      "\u001b[0;31m---------------------------------------------------------------------------\u001b[0m",
      "\u001b[0;31mAttributeError\u001b[0m                            Traceback (most recent call last)",
      "Cell \u001b[0;32mIn[31], line 13\u001b[0m\n\u001b[1;32m     10\u001b[0m my_thread\u001b[38;5;241m.\u001b[39mstart()\n\u001b[1;32m     12\u001b[0m \u001b[38;5;66;03m# Check if the thread is still running\u001b[39;00m\n\u001b[0;32m---> 13\u001b[0m \u001b[38;5;28mprint\u001b[39m(\u001b[38;5;124m\"\u001b[39m\u001b[38;5;124mIs thread alive?\u001b[39m\u001b[38;5;124m\"\u001b[39m, \u001b[43mmy_thread\u001b[49m\u001b[38;5;241;43m.\u001b[39;49m\u001b[43misAlive\u001b[49m())  \u001b[38;5;66;03m# Output: True\u001b[39;00m\n\u001b[1;32m     15\u001b[0m \u001b[38;5;66;03m# Wait for the thread to complete its execution\u001b[39;00m\n\u001b[1;32m     16\u001b[0m my_thread\u001b[38;5;241m.\u001b[39mjoin()\n",
      "\u001b[0;31mAttributeError\u001b[0m: 'Thread' object has no attribute 'isAlive'"
     ]
    },
    {
     "name": "stdout",
     "output_type": "stream",
     "text": [
      "Thread is running\n"
     ]
    }
   ],
   "source": [
    "import threading\n",
    "import time\n",
    "\n",
    "def my_function():\n",
    "    time.sleep(2)\n",
    "    print(\"Thread is running\")\n",
    "\n",
    "# Create a thread and start it\n",
    "my_thread = threading.Thread(target=my_function)\n",
    "my_thread.start()\n",
    "\n",
    "# Check if the thread is still running\n",
    "print(\"Is thread alive?\", my_thread.isAlive())  # Output: True\n",
    "\n",
    "# Wait for the thread to complete its execution\n",
    "my_thread.join()\n",
    "\n",
    "# Check again after joining the thread\n",
    "print(\"Is thread alive?\", my_thread.isAlive())  # Output: False\n"
   ]
  },
  {
   "cell_type": "code",
   "execution_count": null,
   "id": "8de8ac56-ac18-4cf9-878b-ab6faf34d1c0",
   "metadata": {},
   "outputs": [],
   "source": [
    "4.write a python program to create two threads. Thread one must print the list of squares and thread\n",
    "two must print the list of cubes"
   ]
  },
  {
   "cell_type": "code",
   "execution_count": 15,
   "id": "5c063f88-af6f-417a-9c49-14c1dff0d96b",
   "metadata": {},
   "outputs": [],
   "source": [
    "import threading\n",
    "def test7():\n",
    "    squares=[x**2 for x in range(1,5)]\n",
    "    print(\"list of square:\",squares)\n",
    "    "
   ]
  },
  {
   "cell_type": "code",
   "execution_count": 17,
   "id": "6e2c1511-ae58-48da-9ea0-40fc5063b39b",
   "metadata": {},
   "outputs": [],
   "source": [
    "thred=[threading.Thread(target=test7)]"
   ]
  },
  {
   "cell_type": "code",
   "execution_count": 18,
   "id": "d4396da8-4cd1-4e54-8249-fea3d543ee05",
   "metadata": {},
   "outputs": [
    {
     "name": "stdout",
     "output_type": "stream",
     "text": [
      "list of square: [1, 4, 9, 16]\n"
     ]
    }
   ],
   "source": [
    "for t in thred:\n",
    "    t.start()\n",
    "    \n",
    "    "
   ]
  },
  {
   "cell_type": "code",
   "execution_count": 2,
   "id": "a70eaaae-eb02-4fc8-9d34-c3f2b4a3201f",
   "metadata": {},
   "outputs": [],
   "source": [
    "import threading\n",
    "def test3():\n",
    "    cubes=[x**3 for x in range(1,5)]\n",
    "    print(\"list of cube:\",cubes)\n",
    "    "
   ]
  },
  {
   "cell_type": "code",
   "execution_count": 4,
   "id": "d22b7001-6122-463e-897c-d973faf0e6b6",
   "metadata": {},
   "outputs": [],
   "source": [
    "thred1=[threading.Thread(target=test3)]"
   ]
  },
  {
   "cell_type": "code",
   "execution_count": 5,
   "id": "92195598-beb5-472f-8673-6b1c8bdc3791",
   "metadata": {},
   "outputs": [
    {
     "name": "stdout",
     "output_type": "stream",
     "text": [
      "list of cube: [1, 8, 27, 64]\n"
     ]
    }
   ],
   "source": [
    "for u in thred1:\n",
    "    u.start()"
   ]
  },
  {
   "cell_type": "code",
   "execution_count": null,
   "id": "57aae88f-f1e8-4205-bdf0-68a77070294e",
   "metadata": {},
   "outputs": [],
   "source": [
    "5. State advantages and disadvantages of multithreading"
   ]
  },
  {
   "cell_type": "code",
   "execution_count": null,
   "id": "1507d3fe-47ec-4b22-9f34-1c63127a70a4",
   "metadata": {},
   "outputs": [],
   "source": [
    "advantage\n",
    "1.improved performance\n",
    "2.resource sharing\n",
    "3.resposiveness\n",
    "4.paralleism\n",
    "disavanatage\n",
    "1.complexicity"
   ]
  }
 ],
 "metadata": {
  "kernelspec": {
   "display_name": "Python 3 (ipykernel)",
   "language": "python",
   "name": "python3"
  },
  "language_info": {
   "codemirror_mode": {
    "name": "ipython",
    "version": 3
   },
   "file_extension": ".py",
   "mimetype": "text/x-python",
   "name": "python",
   "nbconvert_exporter": "python",
   "pygments_lexer": "ipython3",
   "version": "3.10.8"
  }
 },
 "nbformat": 4,
 "nbformat_minor": 5
}
